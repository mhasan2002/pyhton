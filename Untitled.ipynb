{
 "cells": [
  {
   "cell_type": "code",
   "execution_count": 12,
   "metadata": {},
   "outputs": [
    {
     "ename": "SyntaxError",
     "evalue": "EOL while scanning string literal (<ipython-input-12-470b922b632e>, line 10)",
     "output_type": "error",
     "traceback": [
      "\u001b[1;36m  File \u001b[1;32m\"<ipython-input-12-470b922b632e>\"\u001b[1;36m, line \u001b[1;32m10\u001b[0m\n\u001b[1;33m    print(\"S No    Subject   Marks     Obtained \\n 1       Math     100        {math} \\n 2      English   100        {english}   \\n 3       islamiat      100        ${islamiat} \\n 4        PST     100 }\u001b[0m\n\u001b[1;37m                                                                                                                                                                                                          ^\u001b[0m\n\u001b[1;31mSyntaxError\u001b[0m\u001b[1;31m:\u001b[0m EOL while scanning string literal\n"
     ]
    }
   ],
   "source": [
    "total =300\n",
    "math=94\n",
    "english=34\n",
    "islamiat=90\n",
    "marksObtained=math+urdu+english+pst+chemistry\n",
    "percentage = marksObtained/total*100\n",
    "print(\"Marks Sheet\")\n",
    "print( \"Name : Hasan Ashraf\")\n",
    "print(\"Course : Fullter and Dart Course \")\n",
    "print(\"S No    Subject   Marks     Obtained \\n 1       Math     100        {math} \\n 2      English   100        {english}   \\n 3       islamiat      100        ${islamiat} \\n 4        PST     100 }\n",
    "      print(\" marksObtained         {marksObtained}\")\n",
    "      if(marksObtained >= 300):\n",
    "        print(\"you pass with a grade\")\n",
    "      if(marksObtained<= 300):\n",
    "        print(\"you have passed with b grade\"\n",
    "  print (\" percentage {percentage}%\")"
   ]
  },
  {
   "cell_type": "code",
   "execution_count": null,
   "metadata": {},
   "outputs": [],
   "source": []
  }
 ],
 "metadata": {
  "kernelspec": {
   "display_name": "Python 3",
   "language": "python",
   "name": "python3"
  },
  "language_info": {
   "codemirror_mode": {
    "name": "ipython",
    "version": 3
   },
   "file_extension": ".py",
   "mimetype": "text/x-python",
   "name": "python",
   "nbconvert_exporter": "python",
   "pygments_lexer": "ipython3",
   "version": "3.7.6"
  }
 },
 "nbformat": 4,
 "nbformat_minor": 4
}
